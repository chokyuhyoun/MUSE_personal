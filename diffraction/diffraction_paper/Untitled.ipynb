{
 "cells": [
  {
   "cell_type": "code",
   "execution_count": null,
   "id": "7713f713-c11e-492d-9fe4-03aef21a4f61",
   "metadata": {
    "execution": {
     "iopub.execute_input": "2025-06-11T16:32:15.477252Z",
     "iopub.status.busy": "2025-06-11T16:32:15.477026Z"
    }
   },
   "outputs": [
    {
     "name": "stdout",
     "output_type": "stream",
     "text": [
      "Running time: 1.97 mins"
     ]
    }
   ],
   "source": [
    "import time\n",
    "\n",
    "start_time = time.time()  # Record the start time\n",
    "\n",
    "# Run loop for 5 seconds\n",
    "while True:\n",
    "    current_time = time.time()  # Get the current time\n",
    "    elapsed_time = current_time - start_time  # Calculate elapsed time\n",
    "\n",
    "    print(f\"\\rRunning time: {elapsed_time/60:.2f} mins\", end=\"\")\n",
    "    time.sleep(1)  "
   ]
  },
  {
   "cell_type": "code",
   "execution_count": null,
   "id": "3fc1ba7c-f880-43c7-80c2-2364b21a9667",
   "metadata": {},
   "outputs": [],
   "source": []
  }
 ],
 "metadata": {
  "kernelspec": {
   "display_name": "muse_conda",
   "language": "python",
   "name": "muse_conda"
  },
  "language_info": {
   "codemirror_mode": {
    "name": "ipython",
    "version": 3
   },
   "file_extension": ".py",
   "mimetype": "text/x-python",
   "name": "python",
   "nbconvert_exporter": "python",
   "pygments_lexer": "ipython3",
   "version": "3.11.7"
  }
 },
 "nbformat": 4,
 "nbformat_minor": 5
}
