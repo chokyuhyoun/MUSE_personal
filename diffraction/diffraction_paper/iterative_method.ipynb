{
 "cells": [
  {
   "cell_type": "code",
   "execution_count": 1,
   "id": "28375a53-08fa-4cd1-aafc-cdcfcdfded38",
   "metadata": {
    "execution": {
     "iopub.execute_input": "2025-02-28T15:18:16.868808Z",
     "iopub.status.busy": "2025-02-28T15:18:16.868492Z",
     "iopub.status.idle": "2025-02-28T15:18:19.679091Z",
     "shell.execute_reply": "2025-02-28T15:18:19.678497Z",
     "shell.execute_reply.started": "2025-02-28T15:18:16.868786Z"
    }
   },
   "outputs": [],
   "source": [
    "import os\n",
    "os.environ[\"XUVTOP\"] = \"/usr/local/ssw/packages/chianti/dbase/\"\n",
    "from scipy.io import readsav\n",
    "import xarray as xr\n",
    "import numpy as np\n",
    "from dateutil.tz import gettz\n",
    "from datetime import datetime\n",
    "from datetime import date\n",
    "import dask, pdb\n",
    "from pathlib import Path\n",
    "\n",
    "import matplotlib.pyplot as plt\n",
    "from matplotlib import colors\n",
    "\n",
    "from muse.synthesis.synthesis import vdem_synthesis, vdem_syn_join_slits_wvl, ph2e, exposure_time\n",
    "from muse.instr.psf import  convolve_model_psf, oversampled_wavelength_to_sg\n",
    "from muse.instr.gausslobes import gausslobes\n",
    "from muse.instr.detect_sidelobes import remove_yx_sidelobes\n",
    "from muse.instr.utils import create_eff_area_xarray, ci2sg_response_format\n",
    "from muse.transforms.transforms import muse_fov, reshape_x2rs, reshape_rs2x, muse_interp_xyw2rssg\n",
    "\n",
    "from muse.utils.utils import  deweight_func, sub_contaminants, read_response, weight_func, sub_positive\n",
    "from muse.instr.utils import sum_lines_per_band, sum_lines_slits_per_band\n",
    "from muse.inversions.inversions import vdem_solve\n",
    "\n",
    "from muse.utils.fitting import masker\n",
    "from muse.variables import CENTROID_UNCERT_PROMISED, EXP_NOM\n",
    "from muse.utils.fitting import gaussian_fitting_analysis,calculate_moments_gaussian\n",
    "from muse.utils.fitting import main_gaussian_fitter,_vet_new_local_max,fit_gaussian\n",
    "from muse.utils.fitting import fit_gaussian_remove_badspec,local_max\n",
    "from muse.utils.miscellaneous import plot_gfat2c, generate_outliers_newer, get_outliers_newer, plot_with_chisquare\n",
    "\n",
    "from sklearn.linear_model import Ridge as Ridge\n",
    "from sklearn.linear_model import LassoLars as LassoLars\n",
    "author=\"JMS\"\n",
    "WEST = gettz(\"US/Western\")"
   ]
  },
  {
   "cell_type": "code",
   "execution_count": 2,
   "id": "6634882f-bf73-4de0-93ec-04a8baaa86f6",
   "metadata": {
    "execution": {
     "iopub.execute_input": "2025-02-28T15:18:22.501714Z",
     "iopub.status.busy": "2025-02-28T15:18:22.501227Z",
     "iopub.status.idle": "2025-02-28T15:18:34.189002Z",
     "shell.execute_reply": "2025-02-28T15:18:34.188445Z",
     "shell.execute_reply.started": "2025-02-28T15:18:22.501689Z"
    }
   },
   "outputs": [
    {
     "name": "stdout",
     "output_type": "stream",
     "text": [
      "\u001b[32m2025-02-28 15:18:30.926\u001b[0m | \u001b[1mINFO    \u001b[0m | \u001b[36mmuse.instr.utils\u001b[0m:\u001b[36msum_lines_per_band\u001b[0m:\u001b[36m1283\u001b[0m - \u001b[1mSwapping lines with band was required\u001b[0m\n"
     ]
    }
   ],
   "source": [
    "data_path = '/home/ec2-user/SageMaker/data/565000/'\n",
    "response= xr.open_zarr(data_path + 'response_565000.zarr').compute()\n",
    "response[\"line\"] = ['Fe XIX', 'Fe XXI', '108 missing main line', 'Fe IX',\n",
    "                    '171 missing main line', 'Fe XV', '284 missing main line']\n",
    "# reduce the volume of response function\n",
    "response = response.sel(logT=np.arange(5.0, 7.1, 0.1), \n",
    "                        vdop = np.arange(-780, 1020, 20), \n",
    "                        method='nearest')\n",
    "respsum = sum_lines_per_band(response)"
   ]
  },
  {
   "cell_type": "code",
   "execution_count": 3,
   "id": "b3222bf5-5121-421f-b5ff-4aed76a9e83b",
   "metadata": {
    "execution": {
     "iopub.execute_input": "2025-02-28T15:18:34.190219Z",
     "iopub.status.busy": "2025-02-28T15:18:34.189966Z",
     "iopub.status.idle": "2025-02-28T15:18:34.269669Z",
     "shell.execute_reply": "2025-02-28T15:18:34.269093Z",
     "shell.execute_reply.started": "2025-02-28T15:18:34.190201Z"
    }
   },
   "outputs": [],
   "source": [
    "if False:\n",
    "    spec_gt = xr.open_zarr(data_path+'spec_m-flare-muram_los2_trac_565000_core.zarr').compute()\n",
    "    spec_gt[\"flux\"].attrs = dict(units=\"ph / s\")\n",
    "    spec_gt[\"gain\"] = xr.DataArray([10]*3, dims=['band'])\n",
    "    spec_obs = sum_lines_slits_per_band(spec_gt)\n",
    "    spec_obs.to_zarr(data_path+'spec_obs.zarr', mode='w')\n",
    "    \n",
    "    spec_gt_70lpi = xr.open_zarr(data_path+'spec_m-flare-muram_los2_trac_565000_70LPI.zarr').compute()\n",
    "    spec_gt_70lpi[\"flux\"].attrs = dict(units=\"ph / s\")\n",
    "    spec_gt_70lpi[\"gain\"] = xr.DataArray([10]*3, dims=['band'])\n",
    "    spec_obs_70lpi = sum_lines_slits_per_band(spec_gt_70lpi)\n",
    "    spec_obs_70lpi.to_zarr(data_path+'spec_obs_70lpi.zarr', mode='w')\n",
    "else:\n",
    "    # spec_obs = xr.open_zarr(data_path+'spec_obs.zarr').compute()\n",
    "    spec_obs_70lpi = xr.open_zarr(data_path+'spec_obs_70lpi.zarr').compute()"
   ]
  },
  {
   "cell_type": "code",
   "execution_count": 4,
   "id": "57d94d49-dc63-4e07-b086-de2bb711de52",
   "metadata": {
    "execution": {
     "iopub.execute_input": "2025-02-28T15:19:21.424632Z",
     "iopub.status.busy": "2025-02-28T15:19:21.424306Z",
     "iopub.status.idle": "2025-02-28T15:19:21.430228Z",
     "shell.execute_reply": "2025-02-28T15:19:21.429757Z",
     "shell.execute_reply.started": "2025-02-28T15:19:21.424609Z"
    }
   },
   "outputs": [
    {
     "data": {
      "text/plain": [
       "[\"from_hel2vdem(snap=565000, dopaxis=dopaxis, lgtaxis=lgtaxis, logdensaxis=None, tg=[], vel=[], dens=[], ems=[], axis=2, interp_vdem=False, radyn=False, highrun=False, xyrotation=False, opacity=None, trac=True, trac_coeff=3, kwargs={}), muse_fov(vdem=vdem, dx_pix=0.4, dy_pix=0.167, nslits=35, nraster=11, restype=match_res_tile, mode=wrap, sub_interpolation=2), reshape_x2rs(ds=ds, nslits=35, nraster=11), reshape_rs2x(ds=ds, nslits=35, nraster=11), vdem_syn_join_slits_wvl(response=response, vdem=vdem, islits=(2, 32), sum_over=('logT', 'vdop'), band=(108, 171, 284), line=('Fe XIX', 'Fe IX', 'Fe XV'), use_gpu=True), convolve_model_psf(spectrum=spectrum, model=<function gausslobes at 0x7f864bbc8860>, fixed_psf_per_channel=False, band=[284], inplace=False, kwargs={'oversample_x': 3, 'slit_dim': 404, 'lpi': 70}), reshape_x2rs(ds=ds, nslits=35, nraster=11), muse_interp_xyw2rssg(spec=spec, response=response, band=band, line=('Fe XIX', 'Fe IX', 'Fe XV'), method=cubic, kwargs={}), sum_lines_slits_per_band(spec=spec)\"]"
      ]
     },
     "execution_count": 4,
     "metadata": {},
     "output_type": "execute_result"
    }
   ],
   "source": [
    "spec_obs_70lpi.HISTORY"
   ]
  },
  {
   "cell_type": "code",
   "execution_count": 5,
   "id": "41d2b76c-0ce0-4a5f-9626-e2711ba0666a",
   "metadata": {
    "execution": {
     "iopub.execute_input": "2025-02-28T20:12:58.927926Z",
     "iopub.status.busy": "2025-02-28T20:12:58.927621Z",
     "iopub.status.idle": "2025-02-28T20:12:59.185101Z",
     "shell.execute_reply": "2025-02-28T20:12:59.184553Z",
     "shell.execute_reply.started": "2025-02-28T20:12:58.927903Z"
    }
   },
   "outputs": [],
   "source": [
    "aa = gausslobes()"
   ]
  },
  {
   "cell_type": "code",
   "execution_count": 7,
   "id": "3ab335a2-6572-4829-b574-c985a8de6107",
   "metadata": {
    "execution": {
     "iopub.execute_input": "2025-02-28T20:13:10.610003Z",
     "iopub.status.busy": "2025-02-28T20:13:10.609659Z",
     "iopub.status.idle": "2025-02-28T20:13:10.614599Z",
     "shell.execute_reply": "2025-02-28T20:13:10.614132Z",
     "shell.execute_reply.started": "2025-02-28T20:13:10.609978Z"
    }
   },
   "outputs": [
    {
     "data": {
      "text/plain": [
       "0.7926032302790151"
      ]
     },
     "execution_count": 7,
     "metadata": {},
     "output_type": "execute_result"
    }
   ],
   "source": [
    "np.sum(aa)"
   ]
  },
  {
   "cell_type": "code",
   "execution_count": 4,
   "id": "3df3ad92-432e-4aca-b453-16343afa6b6c",
   "metadata": {
    "execution": {
     "iopub.execute_input": "2024-12-31T10:47:28.505649Z",
     "iopub.status.busy": "2024-12-31T10:47:28.505388Z",
     "iopub.status.idle": "2024-12-31T10:47:28.509185Z",
     "shell.execute_reply": "2024-12-31T10:47:28.508742Z",
     "shell.execute_reply.started": "2024-12-31T10:47:28.505630Z"
    }
   },
   "outputs": [],
   "source": [
    "def get_scaling(spec):\n",
    "    sz = [spec_obs_70lpi[i].size for i in spec_obs_70lpi.flux.dims]\n",
    "    scaling = xr.DataArray(np.ones(sz), \n",
    "                           dims=spec.flux.dims,\n",
    "                           coords=spec.flux.coords,\n",
    "                           attrs=dict(description=\"Intensity(x, y, line_wvl)\",\n",
    "                                      units=\"DN\"))\n",
    "    scaling *= np.sqrt(spec.flux + spec.flux.max()/1e4)/1e2\n",
    "    return scaling"
   ]
  },
  {
   "cell_type": "code",
   "execution_count": 5,
   "id": "d6359d68-6c1a-4e09-b7f6-b4462171b174",
   "metadata": {
    "execution": {
     "iopub.execute_input": "2024-12-31T10:47:28.510515Z",
     "iopub.status.busy": "2024-12-31T10:47:28.510309Z",
     "iopub.status.idle": "2024-12-31T10:47:28.513139Z",
     "shell.execute_reply": "2024-12-31T10:47:28.512694Z",
     "shell.execute_reply.started": "2024-12-31T10:47:28.510500Z"
    }
   },
   "outputs": [],
   "source": [
    "norm = colors.PowerNorm(0.3, 0, 1e4)\n",
    "npix = 2\n",
    "velocity_range = 400\n",
    "line = ['Fe XV']"
   ]
  },
  {
   "cell_type": "code",
   "execution_count": null,
   "id": "23d0f55c-ce8a-4b46-ad08-d63585cffc24",
   "metadata": {
    "execution": {
     "iopub.execute_input": "2024-12-31T10:47:28.513962Z",
     "iopub.status.busy": "2024-12-31T10:47:28.513737Z"
    }
   },
   "outputs": [],
   "source": [
    "%%capture output\n",
    "# 1st\n",
    "# Disambiguation without any trick on the diffraction. \n",
    "\n",
    "respsum['SG_resp'] = respsum['SG_resp']*0.81**2\n",
    "num = ['1st', '2nd', '3rd', '4th', '5th']\n",
    "spec0 = spec_obs_70lpi.copy(deep=True)\n",
    "for i in range(5):\n",
    "    print(num[i])\n",
    "    if i != 0 :\n",
    "        vdem_inv = vdem_solve(spec0,\n",
    "                              respsum,\n",
    "                              model = LassoLars(alpha=1.e-2, fit_intercept=False, positive=True, eps=1e-40),\n",
    "                              scaling=get_scaling(spec0))\n",
    "        vdem_inv.to_zarr(data_path+f'inv_vdem_{num[i]}.zarr', mode='w')\n",
    "    else: \n",
    "        vdem_inv = xr.open_zarr(data_path+f'inv_vdem_{num[i]}.zarr').compute()\n",
    "    spec_inv = vdem_syn_join_slits_wvl(response, vdem_inv)\n",
    "    spec_inv['gain'] = xr.DataArray([10]*3, dims='band')\n",
    "    diff_pat = convolve_model_psf(spec_inv, model=gausslobes,**{'oversample_x': 3, 'slit_dim': 404}, \n",
    "                                  band=[284], no_core=True)\n",
    "    diff_pat['gain'] = xr.DataArray([10]*3, dims='band')\n",
    "    diff_pat, resp = muse_interp_xyw2rssg(diff_pat, response) \n",
    "    diff_pat['gain'] = xr.DataArray([10]*3, dims='band')\n",
    "    diff_pat = sum_lines_slits_per_band(diff_pat)\n",
    "    diff_pat['gain'] = xr.DataArray([10]*3, dims='band')\n",
    "    spec_sub = sub_positive(spec0, diff_pat)\n",
    "    spec_sub.to_zarr(data_path+f'spec_sub_{num[i]}.zarr', mode='w')\n",
    "    mom_sub = gaussian_fitting_analysis(spec_sub, response, line_band_key=line,\n",
    "                                       kwargs_obs={\"npix\": npix, \"velocity_range\": velocity_range})\n",
    "    mom_sub.to_zarr(data_path+f'mom_sub_{num[i]}.zarr', mode='w')\n",
    "    spec0 = spec_sub.copy()\n",
    "    "
   ]
  },
  {
   "cell_type": "code",
   "execution_count": null,
   "id": "112c11c2-c117-4eb7-a2a8-a9b314097a1f",
   "metadata": {},
   "outputs": [],
   "source": [
    "output.show()"
   ]
  },
  {
   "cell_type": "code",
   "execution_count": 8,
   "id": "9f4fb13a-c35a-4156-b833-3da6f214a842",
   "metadata": {
    "execution": {
     "iopub.execute_input": "2025-01-01T05:49:16.135134Z",
     "iopub.status.busy": "2025-01-01T05:49:16.134904Z",
     "iopub.status.idle": "2025-01-01T05:49:16.137802Z",
     "shell.execute_reply": "2025-01-01T05:49:16.137361Z",
     "shell.execute_reply.started": "2025-01-01T05:49:16.135115Z"
    }
   },
   "outputs": [
    {
     "name": "stdout",
     "output_type": "stream",
     "text": [
      "a\n"
     ]
    }
   ],
   "source": [
    "print('a')"
   ]
  },
  {
   "cell_type": "code",
   "execution_count": 21,
   "id": "fd8b4589-c5bd-4cc7-b1f7-cf4f8604846e",
   "metadata": {
    "execution": {
     "iopub.execute_input": "2024-12-30T20:45:27.595259Z",
     "iopub.status.busy": "2024-12-30T20:45:27.594941Z",
     "iopub.status.idle": "2024-12-30T21:50:27.940582Z",
     "shell.execute_reply": "2024-12-30T21:50:27.939876Z",
     "shell.execute_reply.started": "2024-12-30T20:45:27.595239Z"
    }
   },
   "outputs": [
    {
     "name": "stdout",
     "output_type": "stream",
     "text": [
      "65 min"
     ]
    },
    {
     "ename": "KeyboardInterrupt",
     "evalue": "",
     "output_type": "error",
     "traceback": [
      "\u001b[0;31m---------------------------------------------------------------------------\u001b[0m",
      "\u001b[0;31mKeyboardInterrupt\u001b[0m                         Traceback (most recent call last)",
      "Cell \u001b[0;32mIn[21], line 6\u001b[0m\n\u001b[1;32m      4\u001b[0m \u001b[38;5;28mprint\u001b[39m (\u001b[38;5;124mf\u001b[39m\u001b[38;5;124m'\u001b[39m\u001b[38;5;132;01m{\u001b[39;00mtt\u001b[38;5;132;01m}\u001b[39;00m\u001b[38;5;124m min\u001b[39m\u001b[38;5;124m'\u001b[39m, end\u001b[38;5;241m=\u001b[39m\u001b[38;5;124m\"\u001b[39m\u001b[38;5;130;01m\\r\u001b[39;00m\u001b[38;5;124m\"\u001b[39m)\n\u001b[1;32m      5\u001b[0m tt \u001b[38;5;241m+\u001b[39m\u001b[38;5;241m=\u001b[39m \u001b[38;5;241m1\u001b[39m\n\u001b[0;32m----> 6\u001b[0m time\u001b[38;5;241m.\u001b[39msleep(\u001b[38;5;241m60\u001b[39m)\n",
      "\u001b[0;31mKeyboardInterrupt\u001b[0m: "
     ]
    }
   ],
   "source": [
    "import time\n",
    "tt = 0\n",
    "while True:  \n",
    "    print (f'{tt} min', end=\"\\r\")\n",
    "    tt += 1\n",
    "    time.sleep(60)"
   ]
  },
  {
   "cell_type": "code",
   "execution_count": null,
   "id": "ad10f33a-99d9-424e-85f0-5906a7c4dec3",
   "metadata": {},
   "outputs": [
    {
     "ename": "NameError",
     "evalue": "name 'specsum_psf' is not defined",
     "output_type": "error",
     "traceback": [
      "\u001b[0;31m---------------------------------------------------------------------------\u001b[0m",
      "\u001b[0;31mNameError\u001b[0m                                 Traceback (most recent call last)",
      "Cell \u001b[0;32mIn[21], line 17\u001b[0m\n\u001b[1;32m     15\u001b[0m \u001b[38;5;28;01mwith\u001b[39;00m warnings\u001b[38;5;241m.\u001b[39mcatch_warnings():\n\u001b[1;32m     16\u001b[0m     warnings\u001b[38;5;241m.\u001b[39mfilterwarnings(\u001b[38;5;124m'\u001b[39m\u001b[38;5;124mignore\u001b[39m\u001b[38;5;124m'\u001b[39m)\n\u001b[0;32m---> 17\u001b[0m     spec_psf_a, resp_a, sol_psf_a \u001b[38;5;241m=\u001b[39m adrian_apprach(\u001b[43mspecsum_psf\u001b[49m, response, func_list)\n\u001b[1;32m     18\u001b[0m spec_psf_a\u001b[38;5;241m.\u001b[39mto_zarr(\u001b[38;5;124m\"\u001b[39m\u001b[38;5;124mspec_psf_a.zarr\u001b[39m\u001b[38;5;124m\"\u001b[39m, mode\u001b[38;5;241m=\u001b[39m\u001b[38;5;124m'\u001b[39m\u001b[38;5;124mw\u001b[39m\u001b[38;5;124m'\u001b[39m)\n\u001b[1;32m     19\u001b[0m resp_a\u001b[38;5;241m.\u001b[39mto_zarr(\u001b[38;5;124m\"\u001b[39m\u001b[38;5;124mresp_a.zarr\u001b[39m\u001b[38;5;124m\"\u001b[39m, mode\u001b[38;5;241m=\u001b[39m\u001b[38;5;124m'\u001b[39m\u001b[38;5;124mw\u001b[39m\u001b[38;5;124m'\u001b[39m)\n",
      "\u001b[0;31mNameError\u001b[0m: name 'specsum_psf' is not defined"
     ]
    }
   ],
   "source": [
    "func_list = [\n",
    "    # preparing response function  (summing lines)\n",
    "    \"respsum & sum_lines_per_band(resp)\",\n",
    "    \"respsum.SG_resp & respsum.SG_resp*0.81**2\",\n",
    "    # preparing for disambiguation (some normalization between bands)\n",
    "    \"spec, respsum & weight_func(spec, respsum, fact = {0: 0.10, 1: 5., 2: 2.})\", \n",
    "    # disambiguation\n",
    "    \"sol & vdem_solve(spec, respsum, model = LassoLars(alpha=1.e-3, fit_intercept=True, normalize=True, eps=np.finfo(float).eps))\",\n",
    "    # remove the normalization between bands\n",
    "    \"spec, respsum, sol & deweight_func(spec, respsum, sol, fact = {0: 0.10, 1: 5., 2: 2.})\",\n",
    "]\n",
    "if True:\n",
    "    with warnings.catch_warnings():\n",
    "        warnings.filterwarnings('ignore')\n",
    "        spec_psf_a, resp_a, sol_psf_a = adrian_apprach(specsum_psf, response, func_list)\n",
    "    spec_psf_a.to_zarr(\"spec_psf_a.zarr\", mode='w')\n",
    "    resp_a.to_zarr(\"resp_a.zarr\", mode='w')\n",
    "    sol_psf_a.to_zarr(\"sol_psf_a.zarr\", mode='w')\n",
    "else:\n",
    "    spec_psf_a = xr.open_zarr(\"spec_psf_a.zarr\", consolidated=True)\n",
    "    sol_psf_a = xr.open_zarr(\"sol_psf_a.zarr\", consolidated=True)"
   ]
  },
  {
   "cell_type": "code",
   "execution_count": null,
   "id": "58868a41-fffa-489c-8b8c-e6bf4599079b",
   "metadata": {},
   "outputs": [],
   "source": [
    "# Compute some \"fake\" diffraction pattern and substract from the original data. \n",
    "func_list = [\n",
    "    # synthesize as a function of wvl (no spectrograph)\n",
    "    \"spec & vdem_syn_join_slits_wvl(resp, sol)\",\n",
    "    # obtain the diffraction pattern in the spectrum (I*PSF/(90%^2) - I), i.e., diffraction pattern in spectrum, \n",
    "    \"diff_pat & convolve_model_psf(spec, model=gausslobes,**{'oversample_x': 3, 'slit_dim': 404}, band=[284], no_core=True)\", # only spikes \n",
    "    # MUSE stuff on the diffraction pattern, i.e., slits, raster, etc. \n",
    "    \"diff_pat, resp & muse_interp_xyw2rssg(diff_pat, resp)\", \n",
    "    # MUSE Sum slits and contaminants for the diffraction pattern\n",
    "    \"diff_pat & sum_lines_slits_per_band(diff_pat)\",\n",
    "    # Adrians trick: Spec(orig) - diffraction pattern\n",
    "    \"spec & sub_possitive(spec_orig, diff_pat)\", \n",
    "]\n",
    "if False:\n",
    "    spec2_psf_a, resp2_a, sol2_psf_a = adrian2_apprach(spec_psf_a, response, sol_psf_a, specsum_psf, func_list)\n",
    "    spec2_psf_a.to_zarr(\"spec2_psf_a.zarr\", mode='w')\n",
    "    resp2_a.to_zarr(\"resp2_a.zarr\", mode='w')\n",
    "    sol2_psf_a.to_zarr(\"sol2_psf_a.zarr\", mode='w')\n",
    "else:\n",
    "    spec2_psf_a = xr.open_zarr(\"spec2_psf_a.zarr\", consolidated=True)\n",
    "    sol2_psf_a = xr.open_zarr(\"sol2_psf_a.zarr\", consolidated=True)\n"
   ]
  },
  {
   "cell_type": "code",
   "execution_count": null,
   "id": "a2bbfc6b-ae8a-4a85-be27-4c5a6aef80d2",
   "metadata": {},
   "outputs": [],
   "source": [
    "specsum_psf.flux.isel(step=0,band=2).plot.imshow(norm=colors.PowerNorm(0.3), cmap='jet', figsize=(12,6),vmin=0,vmax=1e4)"
   ]
  },
  {
   "cell_type": "code",
   "execution_count": null,
   "id": "c23b1b78-59c4-4841-b0b2-65dc689d9411",
   "metadata": {},
   "outputs": [],
   "source": [
    "spec_psf_a.flux.isel(step=0,band=2).plot.imshow(norm=colors.PowerNorm(0.3), cmap='jet', figsize=(12,6),vmin=0,vmax=1e4)"
   ]
  },
  {
   "cell_type": "code",
   "execution_count": null,
   "id": "39be9b91-cd7f-4b95-8be2-495e5ce145ad",
   "metadata": {},
   "outputs": [],
   "source": [
    "specsum_psf = sum_lines_slits_per_band(muse_spect_psf)"
   ]
  },
  {
   "cell_type": "code",
   "execution_count": null,
   "id": "0422b12c-7697-4ced-b318-a8e5eb752e0f",
   "metadata": {
    "tags": []
   },
   "outputs": [],
   "source": [
    "# 2nd\n",
    "# Disambiguation without any trick on the diffraction. \n",
    "func_list = [\n",
    "    # preparing response function  (summing lines)\n",
    "    \"respsum & sum_lines_per_band(resp)\",\n",
    "    \"respsum.SG_resp & respsum.SG_resp*0.81**2\",\n",
    "    # preparing for disambiguation (some normalization between bands)\n",
    "    \"spec, respsum & weight_func(spec, respsum, fact = {0: 0.10, 1: 5., 2: 2.})\", \n",
    "    # disambiguation\n",
    "    \"sol & vdem_solve(spec, respsum, model = LassoLars(alpha=1.e-3, fit_intercept=True, normalize=True, eps=np.finfo(float).eps, random_state=42, jitter=1),mask=mask)\",\n",
    "    # remove the normalization between bands\n",
    "    \"spec, respsum, sol & deweight_func(spec, respsum, sol, fact = {0: 0.10, 1: 5., 2: 2.})\",\n",
    "]\n",
    "if True:\n",
    "    spec3_psf_a, resp3_a, sol3_psf_a = adrian_apprach(spec2_psf_a, response, func_list,mask=mask)\n",
    "    spec3_psf_a.to_zarr(\"spec3_psf_a.zarr\", mode='w')\n",
    "    resp3_a.to_zarr(\"resp3_a.zarr\", mode='w')\n",
    "    sol3_psf_a.to_zarr(\"sol3_psf_a.zarr\", mode='w')\n",
    "else:\n",
    "    spec3_psf_a = xr.open_zarr(\"spec3_psf_a.zarr\", consolidated=True)\n",
    "    sol3_psf_a = xr.open_zarr(\"sol3_psf_a.zarr\", consolidated=True)"
   ]
  },
  {
   "cell_type": "code",
   "execution_count": null,
   "id": "fbc3ead1-d89f-4132-90e9-751d627539a9",
   "metadata": {},
   "outputs": [],
   "source": [
    "specsum_psf = sum_lines_slits_per_band(muse_spect_psf)"
   ]
  },
  {
   "cell_type": "code",
   "execution_count": null,
   "id": "9ed1d350-201c-42f5-b1be-47515d58634e",
   "metadata": {
    "tags": []
   },
   "outputs": [],
   "source": [
    "# Compute some \"fake\" diffraction pattern and substract from the original data. \n",
    "func_list = [\n",
    "    # synthesize as a function of wvl (no spectrograph)\n",
    "    \"spec & vdem_syn_join_slits_wvl(resp, sol)\",    \n",
    "    # obtain the diffraction pattern in the spectrum (I*PSF/(90%^2) - I), i.e., diffraction pattern in spectrum, \n",
    "    \"diff_pat & convolve_model_psf(spec, model=gausslobes,**{'oversample_x': 3, 'slit_dim': 404}, band=[284], no_core=True)\", # only spikes \n",
    "    # MUSE stuff on the diffraction pattern, i.e., slits, raster, etc. \n",
    "    #diff_at *= 1.62 = 1/T**2\n",
    "    \"diff_pat, resp & muse_interp_xyw2rssg(diff_pat, resp)\", \n",
    "    # MUSE Sum slits and contaminants for the diffraction pattern\n",
    "    \"diff_pat & sum_lines_slits_per_band(diff_pat)\",\n",
    "    # Adrians trick: Spec(orig) - diffraction pattern\n",
    "    \"spec & sub_possitive(spec_orig, diff_pat)\", \n",
    "]\n",
    "if True:\n",
    "    spec4_psf_a, resp4_a, sol4_psf_a = adrian2_apprach(spec3_psf_a, response, sol3_psf_a, specsum_psf, func_list)\n",
    "    spec4_psf_a.to_zarr(\"spec4_psf_a.zarr\", mode='w')\n",
    "    resp4_a.to_zarr(\"resp4_a.zarr\", mode='w')\n",
    "    sol4_psf_a.to_zarr(\"sol4_psf_a.zarr\", mode='w')\n",
    "else:\n",
    "    spec4_psf_a = xr.open_zarr(\"spec4_psf_a.zarr\", consolidated=True)\n",
    "    sol4_psf_a = xr.open_zarr(\"sol4_psf_a.zarr\", consolidated=True)\n"
   ]
  },
  {
   "cell_type": "code",
   "execution_count": null,
   "id": "a5528ff6-a1d2-4e84-b0a5-7adb428b11de",
   "metadata": {
    "tags": []
   },
   "outputs": [],
   "source": [
    "# 3rd\n",
    "# Disambiguation without any trick on the diffraction. \n",
    "func_list = [\n",
    "    # preparing response function  (summing lines)\n",
    "    \"respsum & sum_lines_per_band(resp)\",\n",
    "    \"respsum.SG_resp & respsum.SG_resp*0.81**2\",\n",
    "    # preparing for disambiguation (some normalization between bands)\n",
    "    \"spec, respsum & weight_func(spec, respsum, fact = {0: 0.10, 1: 5., 2: 2.})\", \n",
    "    # disambiguation\n",
    "    \"sol & vdem_solve(spec, respsum, model = LassoLars(alpha=1.e-3, fit_intercept=True, normalize=True, eps=np.finfo(float).eps, random_state=42),mask=mask)\",\n",
    "    # remove the normalization between bands\n",
    "    \"spec, respsum, sol & deweight_func(spec, respsum, sol, fact = {0: 0.10, 1: 5., 2: 2.})\",\n",
    "]\n",
    "if True:\n",
    "    spec5_psf_a, resp5_a, sol5_psf_a = adrian_apprach(spec4_psf_a, response, func_list,mask=mask)\n",
    "    spec5_psf_a.to_zarr(\"spec5_psf_a.zarr\", mode='w')\n",
    "    resp5_a.to_zarr(\"resp5_a.zarr\", mode='w')\n",
    "    sol5_psf_a.to_zarr(\"sol5_psf_a.zarr\", mode='w')\n",
    "else:\n",
    "    spec5_psf_a = xr.open_zarr(\"spec5_psf_a.zarr\", consolidated=True)\n",
    "    sol5_psf_a = xr.open_zarr(\"sol5_psf_a.zarr\", consolidated=True)"
   ]
  },
  {
   "cell_type": "code",
   "execution_count": null,
   "id": "1b4e5535-d909-4d38-b71b-634b507dd2d9",
   "metadata": {},
   "outputs": [],
   "source": [
    "specsum_psf = sum_lines_slits_per_band(muse_spect_psf)"
   ]
  }
 ],
 "metadata": {
  "kernelspec": {
   "display_name": "conda_muse_conda",
   "language": "python",
   "name": "conda_muse_conda"
  },
  "language_info": {
   "codemirror_mode": {
    "name": "ipython",
    "version": 3
   },
   "file_extension": ".py",
   "mimetype": "text/x-python",
   "name": "python",
   "nbconvert_exporter": "python",
   "pygments_lexer": "ipython3",
   "version": "3.11.7"
  }
 },
 "nbformat": 4,
 "nbformat_minor": 5
}
