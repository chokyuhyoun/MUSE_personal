{
 "cells": [
  {
   "cell_type": "code",
   "execution_count": 1,
   "id": "0fc2edb6-efd1-4584-a16a-21a8004c5887",
   "metadata": {
    "execution": {
     "iopub.execute_input": "2025-10-14T22:03:23.104100Z",
     "iopub.status.busy": "2025-10-14T22:03:23.103944Z",
     "iopub.status.idle": "2025-10-14T22:03:24.942922Z",
     "shell.execute_reply": "2025-10-14T22:03:24.942273Z",
     "shell.execute_reply.started": "2025-10-14T22:03:23.104081Z"
    }
   },
   "outputs": [],
   "source": [
    "import numpy as np\n",
    "import matplotlib.pyplot as plt\n",
    "import xarray as xr\n",
    "from muse.utils.fitting import masker\n",
    "import json, os, glob"
   ]
  },
  {
   "cell_type": "code",
   "execution_count": 2,
   "id": "fcd81d57-bc63-47c3-aa90-3a8366fde8c8",
   "metadata": {
    "execution": {
     "iopub.execute_input": "2025-10-14T22:03:24.944158Z",
     "iopub.status.busy": "2025-10-14T22:03:24.943741Z",
     "iopub.status.idle": "2025-10-14T22:03:24.947022Z",
     "shell.execute_reply": "2025-10-14T22:03:24.946684Z",
     "shell.execute_reply.started": "2025-10-14T22:03:24.944140Z"
    }
   },
   "outputs": [],
   "source": [
    "base_path = '/Users/khcho/MUSE/diffraction/time_series/plot0/'\n",
    "os.chdir(base_path)\n",
    "import sys\n",
    "sys.path.append(base_path)"
   ]
  },
  {
   "cell_type": "code",
   "execution_count": 3,
   "id": "3bb7e549-8c03-4517-90ca-bef4f472bee3",
   "metadata": {
    "execution": {
     "iopub.execute_input": "2025-10-14T22:03:24.947912Z",
     "iopub.status.busy": "2025-10-14T22:03:24.947548Z",
     "iopub.status.idle": "2025-10-14T22:03:24.950642Z",
     "shell.execute_reply": "2025-10-14T22:03:24.950342Z",
     "shell.execute_reply.started": "2025-10-14T22:03:24.947890Z"
    }
   },
   "outputs": [],
   "source": [
    "def read_sdc_log(file):\n",
    "    with open(file, 'r') as file:\n",
    "        json_log = json.load(file)\n",
    "    return json_log"
   ]
  },
  {
   "cell_type": "code",
   "execution_count": 4,
   "id": "61e3303f-fb64-46cf-9e22-e3bf6ec1ba8e",
   "metadata": {
    "execution": {
     "iopub.execute_input": "2025-10-14T22:03:24.951311Z",
     "iopub.status.busy": "2025-10-14T22:03:24.951191Z",
     "iopub.status.idle": "2025-10-14T22:03:24.955736Z",
     "shell.execute_reply": "2025-10-14T22:03:24.955285Z",
     "shell.execute_reply.started": "2025-10-14T22:03:24.951300Z"
    }
   },
   "outputs": [],
   "source": [
    "lines = ['Fe XIX 108.355', 'Fe IX 171.073', 'Fe XV 284.163']\n",
    "res = xr.Dataset(\n",
    "    {'num':(['step', 'line', 'metric', 'parameter', 'diffr'], \n",
    "               np.full((3, 3, 4, 3, 3), np.nan)), \n",
    "    }, \n",
    "    coords={'step': ['step0', 'step1', 'step2'], \n",
    "            'line': lines,\n",
    "            'metric':['outlier', '1sig', '2sig', '3sig'], \n",
    "            'parameter':['net_flux', 'velocity', 'linewidth'], \n",
    "            'diffr':['w/ diff.', 'diff. rm', 'only_core']\n",
    "           }\n",
    ")"
   ]
  },
  {
   "cell_type": "code",
   "execution_count": 5,
   "id": "20719c8d-f8e4-44ec-b25c-4683668a56e8",
   "metadata": {
    "execution": {
     "iopub.execute_input": "2025-10-14T22:03:24.956262Z",
     "iopub.status.busy": "2025-10-14T22:03:24.956158Z",
     "iopub.status.idle": "2025-10-14T22:03:24.958287Z",
     "shell.execute_reply": "2025-10-14T22:03:24.957980Z",
     "shell.execute_reply.started": "2025-10-14T22:03:24.956251Z"
    }
   },
   "outputs": [],
   "source": [
    "metric_str = {'outlier':'outliers', '1sig':'sigma1', '2sig':'sigma2', '3sig':'sigma3'}"
   ]
  },
  {
   "cell_type": "code",
   "execution_count": 6,
   "id": "5ecc3f29-91b5-46e2-b5fd-3126c9312127",
   "metadata": {
    "execution": {
     "iopub.execute_input": "2025-10-14T22:03:24.960001Z",
     "iopub.status.busy": "2025-10-14T22:03:24.959888Z",
     "iopub.status.idle": "2025-10-14T22:03:24.964304Z",
     "shell.execute_reply": "2025-10-14T22:03:24.964044Z",
     "shell.execute_reply.started": "2025-10-14T22:03:24.959991Z"
    }
   },
   "outputs": [
    {
     "data": {
      "text/plain": [
       "['/Users/khcho/MUSE/diffraction/time_series/plot0/plot_diff_removed_time/sdc_benchmark.json',\n",
       " '/Users/khcho/MUSE/diffraction/time_series/plot0/plot_diff_time/sdc_benchmark.json',\n",
       " '/Users/khcho/MUSE/diffraction/time_series/plot0/plot_only_core_time/sdc_benchmark.json']"
      ]
     },
     "execution_count": 6,
     "metadata": {},
     "output_type": "execute_result"
    }
   ],
   "source": [
    "files = glob.glob(base_path+'/**/*benchmark.json')\n",
    "files"
   ]
  },
  {
   "cell_type": "code",
   "execution_count": 7,
   "id": "e0f211b5-03cd-45be-81bf-853a2051d052",
   "metadata": {
    "execution": {
     "iopub.execute_input": "2025-10-14T22:03:24.965136Z",
     "iopub.status.busy": "2025-10-14T22:03:24.964908Z",
     "iopub.status.idle": "2025-10-14T22:03:25.008794Z",
     "shell.execute_reply": "2025-10-14T22:03:25.008450Z",
     "shell.execute_reply.started": "2025-10-14T22:03:24.965123Z"
    }
   },
   "outputs": [
    {
     "name": "stdout",
     "output_type": "stream",
     "text": [
      "/Users/khcho/MUSE/diffraction/time_series/plot0/plot_diff_removed_time/sdc_benchmark.json diff. rm\n",
      "/Users/khcho/MUSE/diffraction/time_series/plot0/plot_diff_time/sdc_benchmark.json w/ diff.\n",
      "/Users/khcho/MUSE/diffraction/time_series/plot0/plot_only_core_time/sdc_benchmark.json only_core\n"
     ]
    }
   ],
   "source": [
    "files = glob.glob(base_path+'/**/*benchmark.json')\n",
    "for file in files:\n",
    "    log = read_sdc_log(file)\n",
    "    step = res.step[2] if 'sub_cont' in file else (res.step[1] if 'inv' in file else res.step[0])\n",
    "    diffr = 'only_core' if 'only_core' in file else ('diff. rm' if 'removed' in file else 'w/ diff.')\n",
    "    print(file, diffr)\n",
    "    for parameter in res.parameter.values:\n",
    "        for metric in res.metric.values:\n",
    "            for line in res.line.values:\n",
    "                words = [parameter, \n",
    "                         metric_str[metric], \n",
    "                         line]\n",
    "                has_keyword = [v for k, v in log.items() if all(word in k for word in words)]\n",
    "                if len(has_keyword) > 1: print('duplicated')\n",
    "                res['num'].loc[{\n",
    "                    'parameter':parameter, \n",
    "                    'metric':metric, \n",
    "                    'line':line, \n",
    "                    'step':step, \n",
    "                    'diffr':diffr, \n",
    "                    }\n",
    "                ] = has_keyword[0]"
   ]
  },
  {
   "cell_type": "code",
   "execution_count": 8,
   "id": "e3b1a112-1c77-4698-bcc0-81f7e27907c4",
   "metadata": {
    "execution": {
     "iopub.execute_input": "2025-10-14T22:03:25.011310Z",
     "iopub.status.busy": "2025-10-14T22:03:25.011161Z",
     "iopub.status.idle": "2025-10-14T22:03:25.025011Z",
     "shell.execute_reply": "2025-10-14T22:03:25.024575Z",
     "shell.execute_reply.started": "2025-10-14T22:03:25.011296Z"
    }
   },
   "outputs": [],
   "source": [
    "def plot_param_space_table(target, col_dim, row_dim, save_name='param_space.png', \n",
    "                           cmap='jet', vmin=None, vmax=None, dpi=200):\n",
    "\n",
    "    import matplotlib.patheffects as patheffects\n",
    "    custom_order=['diffr', 'parameter', 'metric', 'line', 'GT_noise', 'step',\n",
    "                  'fill_value', 'threshold']\n",
    "    \n",
    "    col_dim_len = [len(target[i]) for i in col_dim]\n",
    "    row_dim_len = [len(target[j]) for j in row_dim]\n",
    "    tot_col = np.prod(col_dim_len)\n",
    "    tot_row = np.prod(row_dim_len)\n",
    "    xu = 1.5\n",
    "    yu = 1.2\n",
    "    xlim = np.array([-len(row_dim)*2, tot_col])*xu\n",
    "    ylim = np.array([0, tot_row+len(col_dim)])*yu\n",
    "    if vmin == None: vmin = target.min() \n",
    "    if vmax == None: vmax = target.max() \n",
    "    \n",
    "    array = target.transpose(*row_dim, *col_dim).data.reshape(tot_row, tot_col)\n",
    "    fact = 60\n",
    "    ax_xsize = fact*np.diff(xlim)[0]\n",
    "    ax_ysize = fact*np.diff(ylim)[0]\n",
    "    xmar = 380\n",
    "    ymar = 60\n",
    "    fig_xsize = ax_xsize + xmar\n",
    "    fig_ysize = ax_ysize + ymar\n",
    "    # fig, ax = plt.subplots(figsize=(0.5*np.diff(xlim)[0], 1.*0.4*np.diff(ylim)[0]))\n",
    "    fig, ax = plt.subplots(figsize=(fig_xsize/dpi, fig_ysize/dpi), dpi=dpi)\n",
    "    plt.axis('off')\n",
    "    table = ax.imshow(array, \n",
    "                      extent=[0, tot_col*xu, 0, tot_row*yu], \n",
    "                      cmap=cmap, \n",
    "                      interpolation='nearest')\n",
    "    title = []\n",
    "    unused_coord = [coord for coord in target.coords if coord not in target.dims]\n",
    "    rank = {name: i for i, name in enumerate(custom_order)}\n",
    "    unused_coord = sorted(unused_coord, key=lambda x: rank[x])\n",
    "    for dum in unused_coord:\n",
    "        title.append(f'{dum}: {target[dum].values}')\n",
    "    title = '\\n'.join(title)\n",
    "    ax_pos = [(xmar-30)/fig_xsize, (ymar-30)/fig_ysize, \n",
    "              ax_xsize/fig_xsize, ax_ysize/fig_ysize]\n",
    "    ax.set(\n",
    "        position=ax_pos, \n",
    "           xlim=xlim,\n",
    "           ylim=ylim, \n",
    "           aspect='equal')\n",
    "    fig.text(30/fig_xsize, ax_pos[1]+ax_pos[3], \n",
    "             title, va='top', ha='left', fontsize=10)\n",
    "    for i in range(tot_row):\n",
    "        for j in range(tot_col):\n",
    "            if np.isfinite(array[i, j]):\n",
    "                if float(array[i, j]) < 1e3:\n",
    "                    value = f'{array[i, j]:0.1f}'\n",
    "                else:\n",
    "                    dig = np.floor(np.log10(array[i, j]))\n",
    "                    value = f'{array[i, j]/(10**dig):0.1f}E{int(dig)}'\n",
    "                ax.text((j+0.5)*xu, (tot_row-i-0.5)*yu, value, size=8, \n",
    "                        va='center', ha='center', c='black', clip_on=False, \n",
    "                        path_effects=[patheffects.withStroke(linewidth=2, foreground='white', capstyle=\"round\")])\n",
    "    \n",
    "    for i in range(tot_col+1): \n",
    "        ax.plot([i*xu]*2, [0, tot_row*yu], c='k', lw=0.5, clip_on=False, solid_capstyle='butt')    \n",
    "    for j in range(tot_row+1): \n",
    "        ax.plot([0, tot_col*xu], [j*yu]*2, c='k', lw=0.5, clip_on=False, solid_capstyle='butt')    \n",
    "    \n",
    "    for n1 in range(len(col_dim)): \n",
    "        dim_ind = len(col_dim)-n1-1\n",
    "        repeat = np.prod(col_dim_len[:dim_ind])\n",
    "        delta_x = tot_col/repeat/col_dim_len[dim_ind]\n",
    "        for n2 in range(int(repeat)):\n",
    "            for n3, val in enumerate(target[col_dim[dim_ind]].values):\n",
    "                ax.text((n3*delta_x + n2*np.prod(col_dim_len[dim_ind:]) + 0.5*delta_x)*xu,  \n",
    "                        (tot_row+0.5+n1)*yu, \n",
    "                        val, va='center', ha='center')\n",
    "                ax.plot([(n3*delta_x + n2*np.prod(col_dim_len[dim_ind:]))*xu]*2, \n",
    "                        [0, (tot_row+n1+1)*yu], \n",
    "                        lw=n1+0.5, c='k')\n",
    "        ax.plot([0, xlim[1]*xu], \n",
    "                [(tot_row+1+n1)*yu]*2, lw=0.5+n1, c='k')\n",
    "    \n",
    "    for n1 in range(len(row_dim)):           \n",
    "        dim_ind = len(row_dim)-n1-1\n",
    "        repeat = np.prod(row_dim_len[:dim_ind])\n",
    "        delta_y = tot_row/repeat/row_dim_len[dim_ind]\n",
    "        for n2 in range(int(repeat)):\n",
    "            for n3, val in enumerate(target[row_dim[dim_ind]].values):\n",
    "                if len(val) > 10:\n",
    "                    line_change_pos = val.rfind(' ')\n",
    "                    val_str = val[:line_change_pos] + '\\n' + val[line_change_pos:]\n",
    "                else:\n",
    "                    val_str = val\n",
    "                ax.text((-1-n1*2)*xu, \n",
    "                        (tot_row - n3*delta_y - n2*np.prod(row_dim_len[dim_ind:]) - 0.5*delta_y)*yu,\n",
    "                        val_str, va='center', ha='center')\n",
    "                ax.plot(np.array([-(n1+1)*2, tot_col])*xu, \n",
    "                        np.array([tot_row - n3*delta_y - n2*np.prod(row_dim_len[dim_ind:])]*2)*yu, \n",
    "                        lw=n1+0.5, c='k')\n",
    "        ax.plot([-2*(n1+1)*xu]*2, [0, tot_row*yu], lw=0.5+n1, c='k')\n",
    "\n",
    "    ax.plot(xlim[[0, 0, 1, 1, 0]], ylim[[0, 1, 1, 0, 0]], c='k', lw=n1+1.5, clip_on=False)\n",
    "\n",
    "    ax.text((-2+0.1)*xu, (tot_row+0.1)*yu, \n",
    "            row_dim[-1], \n",
    "            va='bottom', ha='left', size=7)\n",
    "    t01 = ax.text(-0.1*xu, (tot_row+0.9)*yu, \n",
    "            col_dim[-1], \n",
    "            va='top', ha='right', size=7)\n",
    "    ax.plot(np.array([-2, 0])*xu, np.array([tot_row+1, tot_row])*yu, c='k', lw=0.5)\n",
    "    ax.plot(np.array([-2, -2])*xu, np.array([tot_row+1, tot_row])*yu, c='k', lw=0.5)\n",
    "    ax.plot(np.array([0, -2])*xu, np.array([tot_row+1, tot_row+1])*yu, c='k', lw=0.5)\n",
    "    cax = fig.add_subplot(position=[(ax_pos[0]*fig_xsize-70)/fig_xsize, \n",
    "                                    (ax_pos[1]*fig_ysize)/fig_ysize, \n",
    "                                    30/fig_xsize, 200/fig_ysize])\n",
    "    cbar = fig.colorbar(table, cax=cax)\n",
    "    cbar.ax.yaxis.set_ticks_position('left')\n",
    "    cbar.ax.yaxis.set_label_position('left')\n",
    "    if save_name is not None:\n",
    "        fig.savefig(save_name, dpi=dpi)\n",
    "        plt.close()\n",
    "    "
   ]
  },
  {
   "cell_type": "code",
   "execution_count": 9,
   "id": "a229adea-2aa2-4927-8b80-a59f0063cd87",
   "metadata": {
    "execution": {
     "iopub.execute_input": "2025-10-14T22:03:25.025811Z",
     "iopub.status.busy": "2025-10-14T22:03:25.025701Z",
     "iopub.status.idle": "2025-10-14T22:03:27.048087Z",
     "shell.execute_reply": "2025-10-14T22:03:27.047473Z",
     "shell.execute_reply.started": "2025-10-14T22:03:25.025801Z"
    },
    "scrolled": true
   },
   "outputs": [],
   "source": [
    "save_path = base_path + '/tables'\n",
    "try:\n",
    "    os.mkdir(save_path)\n",
    "except:\n",
    "    pass\n",
    "\n",
    "for param in res.parameter.values:\n",
    "    for met in res.metric.values:\n",
    "        for line in res.line.values:\n",
    "            target = res['num'].sel(parameter=param, metric=met, line=line)\n",
    "            col_dim = ['step']\n",
    "            row_dim = ['diffr']\n",
    "    \n",
    "            plot_param_space_table(target, col_dim, row_dim, \n",
    "                                  save_name=save_path+f'/{param}_{met}_{line}.png')\n"
   ]
  },
  {
   "cell_type": "code",
   "execution_count": 10,
   "id": "68fb529d-51f8-480d-b2f4-9f5273117eba",
   "metadata": {
    "execution": {
     "iopub.execute_input": "2025-10-14T22:03:27.048912Z",
     "iopub.status.busy": "2025-10-14T22:03:27.048769Z",
     "iopub.status.idle": "2025-10-14T22:03:27.779525Z",
     "shell.execute_reply": "2025-10-14T22:03:27.779124Z",
     "shell.execute_reply.started": "2025-10-14T22:03:27.048900Z"
    },
    "scrolled": true
   },
   "outputs": [],
   "source": [
    "save_path = base_path + '/tables2'\n",
    "try:\n",
    "    os.mkdir(save_path)\n",
    "except:\n",
    "    pass\n",
    "\n",
    "for met in res.metric.values:\n",
    "    target = res['num'].sel(metric=met)\n",
    "    col_dim = ['parameter', 'step']\n",
    "    row_dim = ['line', 'diffr']\n",
    "\n",
    "    plot_param_space_table(target, col_dim, row_dim, \n",
    "                          save_name=save_path+f'/{met}.png')\n"
   ]
  },
  {
   "cell_type": "code",
   "execution_count": null,
   "id": "834dbef1-f4de-449b-aa99-e01df5b95e70",
   "metadata": {},
   "outputs": [],
   "source": []
  }
 ],
 "metadata": {
  "kernelspec": {
   "display_name": "Python 3 (ipykernel)",
   "language": "python",
   "name": "python3"
  },
  "language_info": {
   "codemirror_mode": {
    "name": "ipython",
    "version": 3
   },
   "file_extension": ".py",
   "mimetype": "text/x-python",
   "name": "python",
   "nbconvert_exporter": "python",
   "pygments_lexer": "ipython3",
   "version": "3.11.10"
  }
 },
 "nbformat": 4,
 "nbformat_minor": 5
}
